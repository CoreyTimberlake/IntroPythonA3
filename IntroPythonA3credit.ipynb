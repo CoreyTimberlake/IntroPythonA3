{
  "nbformat": 4,
  "nbformat_minor": 0,
  "metadata": {
    "colab": {
      "provenance": []
    },
    "kernelspec": {
      "name": "python3",
      "display_name": "Python 3"
    },
    "language_info": {
      "name": "python"
    }
  },
  "cells": [
    {
      "cell_type": "code",
      "execution_count": 8,
      "metadata": {
        "id": "_hyhxT1d9RuC"
      },
      "outputs": [],
      "source": [
        "Q1 = [\"one\", 1, 1.0]\n",
        "\n",
        "q2 = [\"two\", 2, 2.0]\n",
        "q2[1] = \"dos\"\n",
        "Q2 = q2\n",
        "\n",
        "q3 = [\"three\", 3, 3.0]\n",
        "q3.append(\"tres\")\n",
        "Q3 = q3\n",
        "\n",
        "q4a = [\"four\", 4, 4.0]\n",
        "q4b = [\"eight\", 8, 8.0, \"ocho\"]\n",
        "q4a.extend(q4b)\n",
        "Q4 = q4a\n",
        "\n",
        "q5a = [\"five\", 5]\n",
        "q5b = [\"nine\", 9, 9.0, \"nueve\"]\n",
        "q5a.append(q5b)\n",
        "Q5 = q5a\n",
        "\n",
        "Q6 = len(q5b)\n",
        "Q7 = q5b * 3\n",
        "l = len(Q5)\n",
        "Q8 = Q5[l-1]\n"
      ]
    }
  ]
}